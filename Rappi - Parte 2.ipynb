{
 "cells": [
  {
   "cell_type": "markdown",
   "id": "d9de7bfc",
   "metadata": {},
   "source": [
    "# 2. Implementación del modelo"
   ]
  },
  {
   "cell_type": "code",
   "execution_count": 9,
   "id": "b6233c29",
   "metadata": {},
   "outputs": [],
   "source": [
    "import pandas as pd\n",
    "import numpy as np\n",
    "import ast\n",
    "#Graficar\n",
    "import matplotlib.pyplot as plt\n",
    "import seaborn as sns\n",
    "import plotly.express as px\n",
    "import plotly.graph_objects as go\n",
    "from plotly.subplots import make_subplots\n",
    "#Modelo\n",
    "from sklearn import preprocessing\n",
    "from sklearn.linear_model import LogisticRegression\n",
    "from sklearn.model_selection import train_test_split\n",
    "from imblearn.over_sampling import SMOTE\n",
    "from sklearn.feature_selection import RFE\n",
    "import statsmodels.api as sm\n",
    "from sklearn import metrics\n",
    "from sklearn.metrics import confusion_matrix\n",
    "from sklearn.metrics import classification_report\n",
    "from sklearn.metrics import roc_auc_score\n",
    "from sklearn.metrics import roc_curve\n",
    "\n",
    "\n",
    "import warnings\n",
    "warnings.filterwarnings(\"ignore\")"
   ]
  },
  {
   "cell_type": "code",
   "execution_count": 10,
   "id": "f31c26bb",
   "metadata": {},
   "outputs": [
    {
     "data": {
      "text/html": [
       "<div>\n",
       "<style scoped>\n",
       "    .dataframe tbody tr th:only-of-type {\n",
       "        vertical-align: middle;\n",
       "    }\n",
       "\n",
       "    .dataframe tbody tr th {\n",
       "        vertical-align: top;\n",
       "    }\n",
       "\n",
       "    .dataframe thead th {\n",
       "        text-align: right;\n",
       "    }\n",
       "</style>\n",
       "<table border=\"1\" class=\"dataframe\">\n",
       "  <thead>\n",
       "    <tr style=\"text-align: right;\">\n",
       "      <th></th>\n",
       "      <th>ID_USER</th>\n",
       "      <th>genero</th>\n",
       "      <th>monto</th>\n",
       "      <th>fecha</th>\n",
       "      <th>hora</th>\n",
       "      <th>establecimiento</th>\n",
       "      <th>ciudad</th>\n",
       "      <th>tipo_tc</th>\n",
       "      <th>linea_tc</th>\n",
       "      <th>interes_tc</th>\n",
       "      <th>status_txn</th>\n",
       "      <th>is_prime</th>\n",
       "      <th>dcto</th>\n",
       "      <th>cashback</th>\n",
       "      <th>fraude</th>\n",
       "      <th>model</th>\n",
       "      <th>device_score</th>\n",
       "      <th>os</th>\n",
       "      <th>dia_semana</th>\n",
       "    </tr>\n",
       "  </thead>\n",
       "  <tbody>\n",
       "    <tr>\n",
       "      <th>26973</th>\n",
       "      <td>3999</td>\n",
       "      <td>M</td>\n",
       "      <td>24.182665</td>\n",
       "      <td>2020-01-13</td>\n",
       "      <td>17</td>\n",
       "      <td>NaN</td>\n",
       "      <td>Toluca</td>\n",
       "      <td>Física</td>\n",
       "      <td>40000</td>\n",
       "      <td>56</td>\n",
       "      <td>Aceptada</td>\n",
       "      <td>False</td>\n",
       "      <td>2.418266</td>\n",
       "      <td>0.217644</td>\n",
       "      <td>False</td>\n",
       "      <td>2020</td>\n",
       "      <td>5</td>\n",
       "      <td>.</td>\n",
       "      <td>Monday</td>\n",
       "    </tr>\n",
       "    <tr>\n",
       "      <th>26974</th>\n",
       "      <td>3999</td>\n",
       "      <td>M</td>\n",
       "      <td>517.209272</td>\n",
       "      <td>2020-01-03</td>\n",
       "      <td>20</td>\n",
       "      <td>MPago</td>\n",
       "      <td>Toluca</td>\n",
       "      <td>Física</td>\n",
       "      <td>40000</td>\n",
       "      <td>56</td>\n",
       "      <td>En proceso</td>\n",
       "      <td>False</td>\n",
       "      <td>0.000000</td>\n",
       "      <td>5.172093</td>\n",
       "      <td>False</td>\n",
       "      <td>2020</td>\n",
       "      <td>5</td>\n",
       "      <td>ANDROID</td>\n",
       "      <td>Friday</td>\n",
       "    </tr>\n",
       "  </tbody>\n",
       "</table>\n",
       "</div>"
      ],
      "text/plain": [
       "       ID_USER genero       monto      fecha  hora establecimiento  ciudad  \\\n",
       "26973     3999      M   24.182665 2020-01-13    17             NaN  Toluca   \n",
       "26974     3999      M  517.209272 2020-01-03    20           MPago  Toluca   \n",
       "\n",
       "      tipo_tc  linea_tc  interes_tc  status_txn  is_prime      dcto  cashback  \\\n",
       "26973  Física     40000          56    Aceptada     False  2.418266  0.217644   \n",
       "26974  Física     40000          56  En proceso     False  0.000000  5.172093   \n",
       "\n",
       "       fraude model device_score       os dia_semana  \n",
       "26973   False  2020            5        .     Monday  \n",
       "26974   False  2020            5  ANDROID     Friday  "
      ]
     },
     "execution_count": 10,
     "metadata": {},
     "output_type": "execute_result"
    }
   ],
   "source": [
    "#Leyendo los datos y convirtiendolos a un data frame\n",
    "df = pd.read_csv(\"ds_challenge_apr2021.csv\")\n",
    "pd.set_option(\"display.max_columns\", None)\n",
    "\n",
    "#Desanidando columna \"dispositivos\" - Se agregaran nuevas columnas al final\n",
    "df[\"dispositivo\"] =  df[\"dispositivo\"].map(lambda d : ast.literal_eval(d))\n",
    "df= df.join(pd.DataFrame(df[\"dispositivo\"].to_dict()).T)\n",
    "\n",
    "#Quitando dispositivo\n",
    "df.drop(['dispositivo'], axis=1,inplace=True)\n",
    "\n",
    "#Añadiendo día de la semana (Solo para ver si influye)\n",
    "df['fecha'] = pd.to_datetime(df['fecha'])\n",
    "df['dia_semana'] = df['fecha'].dt.day_name()\n",
    "df.tail(2)"
   ]
  },
  {
   "cell_type": "markdown",
   "id": "38cab667",
   "metadata": {},
   "source": [
    "# Preparando la data para el modelo"
   ]
  },
  {
   "cell_type": "code",
   "execution_count": 11,
   "id": "b5b74162",
   "metadata": {},
   "outputs": [],
   "source": [
    "#Dando valores binarios a fraude\n",
    "df[\"fraude\"] = np.where(df[\"fraude\"] == True, 1, 0)\n",
    "df.drop(['fecha'], axis=1, inplace=True) #Realmente no aporta\n",
    "\n",
    "#Reemplazando nan\n",
    "df = df.replace(np.nan, \"desconocido\")"
   ]
  },
  {
   "cell_type": "code",
   "execution_count": 14,
   "id": "eb12a601",
   "metadata": {},
   "outputs": [
    {
     "data": {
      "text/plain": [
       "array(['ID_USER', 'monto', 'hora', 'linea_tc', 'interes_tc', 'dcto',\n",
       "       'cashback', 'fraude', 'model', 'device_score', 'genero_--',\n",
       "       'genero_F', 'genero_M', 'establecimiento_Abarrotes',\n",
       "       'establecimiento_Farmacia', 'establecimiento_MPago',\n",
       "       'establecimiento_Restaurante', 'establecimiento_Super',\n",
       "       'establecimiento_desconocido', 'ciudad_Guadalajara',\n",
       "       'ciudad_Merida', 'ciudad_Monterrey', 'ciudad_Toluca',\n",
       "       'ciudad_desconocido', 'tipo_tc_Física', 'tipo_tc_Virtual',\n",
       "       'status_txn_Aceptada', 'status_txn_En proceso',\n",
       "       'status_txn_Rechazada', 'is_prime_False', 'is_prime_True', 'os_%%',\n",
       "       'os_.', 'os_ANDROID', 'os_WEB', 'dia_semana_Friday',\n",
       "       'dia_semana_Monday', 'dia_semana_Saturday', 'dia_semana_Sunday',\n",
       "       'dia_semana_Thursday', 'dia_semana_Tuesday',\n",
       "       'dia_semana_Wednesday'], dtype=object)"
      ]
     },
     "execution_count": 14,
     "metadata": {},
     "output_type": "execute_result"
    }
   ],
   "source": [
    "#Creando variables dummies para las variables categoricas\n",
    "cat_var=['genero','establecimiento','ciudad','tipo_tc','status_txn','is_prime','os','dia_semana']\n",
    "\n",
    "for var in cat_var:\n",
    "    catList = 'var'+'_'+var\n",
    "    catList = pd.get_dummies(df[var], prefix=var)\n",
    "    df1 = df.join(catList)\n",
    "    df = df1\n",
    "    \n",
    "df_vars = df.columns.values.tolist()\n",
    "to_keep = [i for i in df_vars if i not in cat_var]\n",
    "df_final = df[to_keep]\n",
    "df_final.columns.values"
   ]
  },
  {
   "cell_type": "markdown",
   "id": "d70372d5",
   "metadata": {},
   "source": [
    "# Balanceando data"
   ]
  },
  {
   "cell_type": "code",
   "execution_count": 15,
   "id": "c061d9a1",
   "metadata": {
    "scrolled": true
   },
   "outputs": [
    {
     "name": "stdout",
     "output_type": "stream",
     "text": [
      "Tamaño de la data oversampled  36648\n",
      "Númbero de transacciones verídicas oversampled data 18324\n",
      "Number de transacciones fraudulentas 18324\n"
     ]
    }
   ],
   "source": [
    "#Over-sampling usando SMOTE para balancear\n",
    "X = df_final.loc[:, df_final.columns != 'fraude'] #Features\n",
    "y = df_final.loc[:, df_final.columns == 'fraude'] #Target\n",
    "\n",
    "\n",
    "os = SMOTE(random_state=0)\n",
    "X_train, X_test, y_train, y_test = train_test_split(X, y, test_size=0.3, random_state=0)\n",
    "columns = X_train.columns\n",
    "os_df_X, os_df_y = os.fit_sample(X_train, y_train)\n",
    "os_df_X = pd.DataFrame(data = os_df_X, columns = columns )\n",
    "os_df_y= pd.DataFrame(data = os_df_y, columns = ['fraude'])\n",
    "\n",
    "#Revisando que la info esté balanceada\n",
    "print(\"Tamaño de la data oversampled \",len(os_df_X))\n",
    "print(\"Númbero de transacciones verídicas oversampled data\",len(os_df_y[os_df_y['fraude']==0]))\n",
    "print(\"Number de transacciones fraudulentas\",len(os_df_y[os_df_y['fraude']==1]))"
   ]
  },
  {
   "cell_type": "markdown",
   "id": "16e03b72",
   "metadata": {},
   "source": [
    "# Escogiendo las mejores características (features)"
   ]
  },
  {
   "cell_type": "code",
   "execution_count": 16,
   "id": "afabcca2",
   "metadata": {},
   "outputs": [
    {
     "name": "stdout",
     "output_type": "stream",
     "text": [
      "[False False False False False False False False False False False False\n",
      "  True  True  True  True  True  True False False  True  True  True False\n",
      " False False False False False False  True  True  True  True  True  True\n",
      "  True  True  True  True  True]\n",
      "[21 19 17 22 18 20 16 15 14  9 11 10  1  1  1  1  1  1  2  3  1  1  1  5\n",
      "  4  8  7  6 13 12  1  1  1  1  1  1  1  1  1  1  1]\n",
      "Index(['establecimiento_Abarrotes', 'establecimiento_Farmacia',\n",
      "       'establecimiento_MPago', 'establecimiento_Restaurante',\n",
      "       'establecimiento_Super', 'establecimiento_desconocido',\n",
      "       'ciudad_Monterrey', 'ciudad_Toluca', 'ciudad_desconocido', 'os_%%',\n",
      "       'os_.', 'os_ANDROID', 'os_WEB', 'dia_semana_Friday',\n",
      "       'dia_semana_Monday', 'dia_semana_Saturday', 'dia_semana_Sunday',\n",
      "       'dia_semana_Thursday', 'dia_semana_Tuesday', 'dia_semana_Wednesday'],\n",
      "      dtype='object')\n"
     ]
    }
   ],
   "source": [
    "# A través de Recursive Feature Elimination (RFE) se escogen las mejores características\n",
    "df_final_vars = df_final.columns.values.tolist()\n",
    "y = ['fraude']\n",
    "X = [i for i in df_final_vars if i not in y]\n",
    "\n",
    "logreg = LogisticRegression()\n",
    "\n",
    "rfe = RFE(logreg, n_features_to_select=20)\n",
    "rfe = rfe.fit(os_df_X, os_df_y.values.ravel())\n",
    "print(rfe.support_)\n",
    "print(rfe.ranking_)\n",
    "print(os_df_X.columns[rfe.support_])"
   ]
  },
  {
   "cell_type": "code",
   "execution_count": 19,
   "id": "c513599a",
   "metadata": {},
   "outputs": [],
   "source": [
    "#Ya que se eligieron las columnas\n",
    "cols=['establecimiento_Abarrotes', 'establecimiento_Farmacia',\n",
    "       'establecimiento_MPago', 'establecimiento_Restaurante',\n",
    "       'establecimiento_Super', 'establecimiento_desconocido',\n",
    "       'ciudad_Monterrey', 'ciudad_Toluca', 'ciudad_desconocido', 'os_%%',\n",
    "       'os_.', 'os_ANDROID', 'os_WEB', 'dia_semana_Friday',\n",
    "       'dia_semana_Monday', 'dia_semana_Saturday', 'dia_semana_Sunday',\n",
    "       'dia_semana_Thursday', 'dia_semana_Tuesday', 'dia_semana_Wednesday'] \n",
    "X = os_df_X[cols]\n",
    "y = os_df_y['fraude']"
   ]
  },
  {
   "cell_type": "markdown",
   "id": "22f4d51f",
   "metadata": {},
   "source": [
    "# Implementando Modelo"
   ]
  },
  {
   "cell_type": "code",
   "execution_count": 20,
   "id": "a742a427",
   "metadata": {},
   "outputs": [
    {
     "name": "stdout",
     "output_type": "stream",
     "text": [
      "Optimization terminated successfully.\n",
      "         Current function value: 0.515629\n",
      "         Iterations 6\n",
      "                               Results: Logit\n",
      "============================================================================\n",
      "Model:                   Logit               Pseudo R-squared:    0.256     \n",
      "Dependent Variable:      fraude              AIC:                 37833.5454\n",
      "Date:                    2022-05-19 18:10    BIC:                 38003.7277\n",
      "No. Observations:        36648               Log-Likelihood:      -18897.   \n",
      "Df Model:                19                  LL-Null:             -25402.   \n",
      "Df Residuals:            36628               LLR p-value:         0.0000    \n",
      "Converged:               1.0000              Scale:               1.0000    \n",
      "No. Iterations:          6.0000                                             \n",
      "----------------------------------------------------------------------------\n",
      "                             Coef.  Std.Err.    z     P>|z|   [0.025  0.975]\n",
      "----------------------------------------------------------------------------\n",
      "establecimiento_Abarrotes   -1.0050   0.0719 -13.9704 0.0000 -1.1460 -0.8640\n",
      "establecimiento_Farmacia    -1.2314   0.0795 -15.4833 0.0000 -1.3873 -1.0755\n",
      "establecimiento_MPago       -0.4582   0.0581  -7.8901 0.0000 -0.5721 -0.3444\n",
      "establecimiento_Restaurante -0.9034   0.0676 -13.3594 0.0000 -1.0360 -0.7709\n",
      "establecimiento_Super       -1.1918   0.0781 -15.2671 0.0000 -1.3448 -1.0388\n",
      "establecimiento_desconocido  0.0020   0.0363   0.0554 0.9558 -0.0691  0.0731\n",
      "ciudad_Monterrey             0.2865   0.0552   5.1908 0.0000  0.1783  0.3947\n",
      "ciudad_Toluca                0.1155   0.0556   2.0765 0.0378  0.0065  0.2245\n",
      "ciudad_desconocido           0.7502   0.0309  24.2481 0.0000  0.6895  0.8108\n",
      "os_%%                        0.0551   0.0420   1.3129 0.1892 -0.0272  0.1374\n",
      "os_.                        -0.1227   0.0445  -2.7574 0.0058 -0.2099 -0.0355\n",
      "os_ANDROID                  -0.0186   0.0436  -0.4266 0.6697 -0.1042  0.0669\n",
      "os_WEB                      -0.3155   0.0476  -6.6354 0.0000 -0.4087 -0.2223\n",
      "dia_semana_Friday           -1.7908   0.0661 -27.0818 0.0000 -1.9204 -1.6612\n",
      "dia_semana_Monday           -1.6084   0.0630 -25.5497 0.0000 -1.7318 -1.4850\n",
      "dia_semana_Saturday         -1.7148   0.0646 -26.5551 0.0000 -1.8413 -1.5882\n",
      "dia_semana_Sunday           -1.8191   0.0665 -27.3472 0.0000 -1.9495 -1.6887\n",
      "dia_semana_Thursday         -1.2484   0.0523 -23.8793 0.0000 -1.3509 -1.1459\n",
      "dia_semana_Tuesday          -1.5808   0.0628 -25.1527 0.0000 -1.7040 -1.4576\n",
      "dia_semana_Wednesday        -1.4800   0.0600 -24.6873 0.0000 -1.5976 -1.3625\n",
      "============================================================================\n",
      "\n"
     ]
    }
   ],
   "source": [
    "#Revisando features elegidas\n",
    "logit_model=sm.Logit(y,X)\n",
    "result=logit_model.fit()\n",
    "print(result.summary2())"
   ]
  },
  {
   "cell_type": "markdown",
   "id": "1388065b",
   "metadata": {},
   "source": [
    "El p-value es alto para \"establecimiento_desconocido\",\"ciudad_Toluca \", os_%%\",\"os_ANDROID\", por lo que se quitarán estás columna"
   ]
  },
  {
   "cell_type": "code",
   "execution_count": 34,
   "id": "130b12ab",
   "metadata": {},
   "outputs": [
    {
     "name": "stdout",
     "output_type": "stream",
     "text": [
      "Optimization terminated successfully.\n",
      "         Current function value: 0.515871\n",
      "         Iterations 6\n",
      "                               Results: Logit\n",
      "============================================================================\n",
      "Model:                   Logit               Pseudo R-squared:    0.256     \n",
      "Dependent Variable:      fraude              AIC:                 37841.2920\n",
      "Date:                    2022-05-19 18:13    BIC:                 37968.9287\n",
      "No. Observations:        36648               Log-Likelihood:      -18906.   \n",
      "Df Model:                14                  LL-Null:             -25402.   \n",
      "Df Residuals:            36633               LLR p-value:         0.0000    \n",
      "Converged:               1.0000              Scale:               1.0000    \n",
      "No. Iterations:          6.0000                                             \n",
      "----------------------------------------------------------------------------\n",
      "                             Coef.  Std.Err.    z     P>|z|   [0.025  0.975]\n",
      "----------------------------------------------------------------------------\n",
      "establecimiento_Abarrotes   -1.0069   0.0678 -14.8589 0.0000 -1.1397 -0.8740\n",
      "establecimiento_Farmacia    -1.2340   0.0754 -16.3566 0.0000 -1.3818 -1.0861\n",
      "establecimiento_MPago       -0.4630   0.0535  -8.6614 0.0000 -0.5678 -0.3582\n",
      "establecimiento_Restaurante -0.9036   0.0633 -14.2851 0.0000 -1.0276 -0.7796\n",
      "establecimiento_Super       -1.1957   0.0738 -16.1953 0.0000 -1.3404 -1.0510\n",
      "ciudad_Monterrey             0.2636   0.0541   4.8728 0.0000  0.1576  0.3696\n",
      "ciudad_desconocido           0.7327   0.0293  25.0231 0.0000  0.6753  0.7901\n",
      "os_WEB                      -0.2961   0.0422  -7.0215 0.0000 -0.3788 -0.2135\n",
      "dia_semana_Friday           -1.7871   0.0606 -29.4828 0.0000 -1.9059 -1.6683\n",
      "dia_semana_Monday           -1.6059   0.0573 -28.0333 0.0000 -1.7182 -1.4936\n",
      "dia_semana_Saturday         -1.7119   0.0590 -29.0074 0.0000 -1.8275 -1.5962\n",
      "dia_semana_Sunday           -1.8160   0.0608 -29.8523 0.0000 -1.9353 -1.6968\n",
      "dia_semana_Thursday         -1.2429   0.0461 -26.9506 0.0000 -1.3333 -1.1525\n",
      "dia_semana_Tuesday          -1.5772   0.0573 -27.5127 0.0000 -1.6895 -1.4648\n",
      "dia_semana_Wednesday        -1.4754   0.0543 -27.1740 0.0000 -1.5818 -1.3690\n",
      "============================================================================\n",
      "\n"
     ]
    }
   ],
   "source": [
    "cols=['establecimiento_Abarrotes', 'establecimiento_Farmacia',\n",
    "       'establecimiento_MPago', 'establecimiento_Restaurante',\n",
    "       'establecimiento_Super',\n",
    "       'ciudad_Monterrey',  'ciudad_desconocido',\n",
    "        'os_WEB', 'dia_semana_Friday',\n",
    "       'dia_semana_Monday', 'dia_semana_Saturday', 'dia_semana_Sunday',\n",
    "       'dia_semana_Thursday', 'dia_semana_Tuesday', 'dia_semana_Wednesday'] \n",
    "X = os_df_X[cols]\n",
    "y = os_df_y['fraude']\n",
    "\n",
    "logit_model=sm.Logit(y,X)\n",
    "result=logit_model.fit()\n",
    "print(result.summary2())"
   ]
  },
  {
   "cell_type": "code",
   "execution_count": 35,
   "id": "1e9b99cf",
   "metadata": {},
   "outputs": [
    {
     "data": {
      "text/plain": [
       "LogisticRegression()"
      ]
     },
     "execution_count": 35,
     "metadata": {},
     "output_type": "execute_result"
    }
   ],
   "source": [
    "#Modelo de regresión logística\n",
    "X_train, X_test, y_train, y_test = train_test_split(X, y, test_size=0.3, random_state=0)\n",
    "logreg = LogisticRegression()\n",
    "logreg.fit(X_train, y_train)"
   ]
  },
  {
   "cell_type": "code",
   "execution_count": 36,
   "id": "516dd131",
   "metadata": {},
   "outputs": [
    {
     "name": "stdout",
     "output_type": "stream",
     "text": [
      "Accuracy del modelo de regresión logistica: 0.92\n"
     ]
    }
   ],
   "source": [
    "y_pred = logreg.predict(X_test)\n",
    "print('Accuracy del modelo de regresión logistica: {:.2f}'.format(logreg.score(X_test, y_test)))"
   ]
  },
  {
   "cell_type": "code",
   "execution_count": 37,
   "id": "ed04589e",
   "metadata": {},
   "outputs": [
    {
     "data": {
      "image/png": "[encoded data removed]",
      "text/plain": [
       "<Figure size 432x288 with 2 Axes>"
      ]
     },
     "metadata": {
      "needs_background": "light"
     },
     "output_type": "display_data"
    },
    {
     "name": "stdout",
     "output_type": "stream",
     "text": [
      "[[5358   94]\n",
      " [ 828 4715]]\n"
     ]
    }
   ],
   "source": [
    "#Matriz de confusión\n",
    "cf_matrix = confusion_matrix(y_test, y_pred)\n",
    "ax = sns.heatmap(cf_matrix, annot=True, cmap='Blues')\n",
    "\n",
    "ax.set_title('Matriz de confusión');\n",
    "ax.set_xlabel('\\nPredicted Values')\n",
    "ax.set_ylabel('Actual Values ');\n",
    "\n",
    "## Ticket labels - List must be in alphabetical order\n",
    "ax.xaxis.set_ticklabels(['False','True'])\n",
    "ax.yaxis.set_ticklabels(['False','True'])\n",
    "\n",
    "## Display the visualization of the Confusion Matrix.\n",
    "plt.show()\n",
    "print(cf_matrix)"
   ]
  },
  {
   "cell_type": "code",
   "execution_count": 38,
   "id": "3e125a0f",
   "metadata": {},
   "outputs": [
    {
     "name": "stdout",
     "output_type": "stream",
     "text": [
      "              precision    recall  f1-score   support\n",
      "\n",
      "           0       0.87      0.98      0.92      5452\n",
      "           1       0.98      0.85      0.91      5543\n",
      "\n",
      "    accuracy                           0.92     10995\n",
      "   macro avg       0.92      0.92      0.92     10995\n",
      "weighted avg       0.92      0.92      0.92     10995\n",
      "\n"
     ]
    }
   ],
   "source": [
    "print(classification_report(y_test, y_pred))"
   ]
  },
  {
   "cell_type": "code",
   "execution_count": 39,
   "id": "a066f4b1",
   "metadata": {},
   "outputs": [
    {
     "data": {
      "image/png": "[encoded data removed]",
      "text/plain": [
       "<Figure size 432x288 with 1 Axes>"
      ]
     },
     "metadata": {
      "needs_background": "light"
     },
     "output_type": "display_data"
    }
   ],
   "source": [
    "logit_roc_auc = roc_auc_score(y_test, logreg.predict(X_test))\n",
    "fpr, tpr, thresholds = roc_curve(y_test, logreg.predict_proba(X_test)[:,1])\n",
    "plt.figure()\n",
    "plt.plot(fpr, tpr, label='Logistic Regression (area = %0.2f)' % logit_roc_auc)\n",
    "plt.plot([0, 1], [0, 1],'r--')\n",
    "plt.xlim([-0.1, 1.0])\n",
    "plt.ylim([0.0, 1.05])\n",
    "plt.xlabel('False Positive Rate')\n",
    "plt.ylabel('True Positive Rate')\n",
    "plt.title('Receiver operating characteristic')\n",
    "plt.legend(loc=\"lower right\")\n",
    "plt.savefig('Log_ROC')\n",
    "plt.show()"
   ]
  }
 ],
 "metadata": {
  "kernelspec": {
   "display_name": "Python 3",
   "language": "python",
   "name": "python3"
  },
  "language_info": {
   "codemirror_mode": {
    "name": "ipython",
    "version": 3
   },
   "file_extension": ".py",
   "mimetype": "text/x-python",
   "name": "python",
   "nbconvert_exporter": "python",
   "pygments_lexer": "ipython3",
   "version": "3.8.8"
  }
 },
 "nbformat": 4,
 "nbformat_minor": 5
}
